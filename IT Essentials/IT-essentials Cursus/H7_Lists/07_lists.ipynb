{
 "cells": [
  {
   "cell_type": "markdown",
   "metadata": {},
   "source": [
    "# Hoofdstuk 7: Lists\n",
    "\n",
    "Een “list” (Engelse woord voor “lijst”) is een geordende verzameling van gegevens.\n",
    "\n",
    "## 7.1 Basis van lists\n",
    "\n",
    "Een list is een verzameling (of “collectie”) elementen.\n",
    "\n",
    "De elementen van een list zijn geordend. Omdat ze geordend zijn, kun je ieder element van\n",
    "een list benaderen via een index, net zoals je de tekens in een string kunt benaderen. De\n",
    "indices beginnen bij nul, net als bij strings.\n",
    "\n",
    "In Python kun je lists herkennen aan het feit dat de elementen van een list tussen vierkante\n",
    "haken (`[ ]`) staan. Je kunt het aantal elementen in een list achterhalen door middel van de\n",
    "**len()** functie. Via een **for**-loop kun je de elementen van de list doorlopen."
   ]
  },
  {
   "cell_type": "code",
   "execution_count": null,
   "metadata": {},
   "outputs": [],
   "source": [
    "fruitlist = [\"appel\", \"banaan\", \"kers\", \"mango\"]\n",
    "print(\"Aantal elementen in fruitlist:\", len(fruitlist))\n",
    "for element in fruitlist:\n",
    "    print(element)\n",
    "print(fruitlist[2])\n",
    "\n",
    "numberlist = [314, 315, 642, 246, 129, 999]\n",
    "for number in numberlist:\n",
    "    print(number)\n",
    "print(numberlist[3])"
   ]
  },
  {
   "cell_type": "markdown",
   "metadata": {},
   "source": [
    "**Opgave 7.1** Gebruik een **while** loop om alle elementen van een lijst af te drukken.\n",
    "\n",
    "**Opgave 7.2** Maak een list met gehele getallen en bepaal de grootste waarde uit de list.\n",
    "\n",
    "**Opgave 7.3** Maak een list met gehele getallen en bepaal de kleinste waarde uit de list.\n",
    "\n",
    "**Opgave 7.4** Maak een list met gehele getallen en bereken de som van alle waarden van de list."
   ]
  },
  {
   "cell_type": "markdown",
   "metadata": {},
   "source": [
    "## 7.2 Lists aanpassen\n",
    "\n",
    "Omdat lists veranderbaar (Engels: “mutable”) zijn, mag je de inhoud van een list wijzigen.\n",
    "Om een element van de list te overschrijven, kun je er een nieuwe waarde aan toekennen\n",
    "middels een assignment."
   ]
  },
  {
   "cell_type": "code",
   "execution_count": null,
   "metadata": {},
   "outputs": [],
   "source": [
    "fruitlist = [\"appel\", \"banaan\", \"kers\", \"mandarijn\", \"mango\"]\n",
    "print(fruitlist)\n",
    "fruitlist[2] = \"aardbei\"\n",
    "print(fruitlist)"
   ]
  },
  {
   "cell_type": "markdown",
   "metadata": {},
   "source": [
    "**Opgave 7.5** Neem een list die woorden bevat (bijvoorbeeld één van de fruitlists\n",
    "hierboven). Vervang ieder woord in de list naar het betreffende woord in hoofdletters."
   ]
  },
  {
   "cell_type": "markdown",
   "metadata": {},
   "source": [
    "## 7.3 Lists en operatoren"
   ]
  },
  {
   "cell_type": "markdown",
   "metadata": {},
   "source": [
    "Lists ondersteunen het gebruik van de operatoren `+` en `*`. \n",
    "Je kunt twee lists bij elkaar optellen middels de + operator, en het resultaat is een list\n",
    "die de elementen bevat van beide opgetelde lists. Je moet het resultaat aan een variabele\n",
    "toekennen om het op te slaan.\n",
    "Je kunt een list vermenigvuldigen met een integer om een list te creëren die de elementen\n",
    "van de originele list bevat, net zo vaak herhaald als de integer aangeeft. Dit kan een snelle\n",
    "manier zijn om een list te creëren waarvan alle elementen hetzelfde zijn."
   ]
  },
  {
   "cell_type": "code",
   "execution_count": null,
   "metadata": {},
   "outputs": [],
   "source": [
    "fruitlist = [\"appel\", \"banaan\"] + [\"kers\", \"doerian\"]\n",
    "print(fruitlist)\n",
    "numlist = 10 * [0]\n",
    "print(numlist)"
   ]
  },
  {
   "cell_type": "markdown",
   "metadata": {},
   "source": [
    "## 7.4 List methodes"
   ]
  },
  {
   "cell_type": "markdown",
   "metadata": {},
   "source": [
    "Python heeft een groot aantal methodes die lists wijzigen of informatie uit lists halen. Je\n",
    "hoeft geen module te importeren om ze te gebruiken. Omdat het methodes betreft, gebruik\n",
    "je de syntax `<list>.<methode>()`.\n",
    "    \n",
    "Belangrijk! Lists zijn veranderbaar en deze methodes veranderen vaak de list waarop ze\n",
    "werken! Dit is niet wat je gewend bent met string methodes, waarbij de methodes een\n",
    "nieuwe string maken en die retourneren, zonder de originele string aan te passen. De\n",
    "meeste list methodes hebben daarentegen een onomkeerbaar effect op de list waarop ze\n",
    "werken. Meestal hebben ze ook geen returnwaarde, en die heb je ook niet nodig, omdat\n",
    "het doel van de methodes is de list te wijzigen."
   ]
  },
  {
   "cell_type": "markdown",
   "metadata": {},
   "source": [
    "### 7.4.1 append()\n",
    "\n",
    "*append()* plakt een nieuw element aan het einde van een list. Je roept de methode aan met\n",
    "het nieuwe element als argument."
   ]
  },
  {
   "cell_type": "code",
   "execution_count": null,
   "metadata": {},
   "outputs": [],
   "source": [
    "fruitlist = [\"appel\", \"banaan\", \"kers\", \"doerian\"]\n",
    "print(fruitlist)\n",
    "fruitlist.append(\"mango\")\n",
    "print(fruitlist)"
   ]
  },
  {
   "cell_type": "markdown",
   "metadata": {},
   "source": [
    "### 7.4.2 insert()\n",
    "\n",
    "*insert()* geeft de mogelijkheid een element aan een list toe te voegen op een specifieke\n",
    "positie. Je roept de methode aan met twee argumenten, waarvan de eerste de index is van\n",
    "de positie waar het nieuwe element moet komen, en de tweede het nieuwe element zelf.\n",
    "Als je een element toe wilt voegen aan het begin van de list, kun je index 0 gebruiken."
   ]
  },
  {
   "cell_type": "code",
   "execution_count": null,
   "metadata": {},
   "outputs": [],
   "source": [
    "fruitlist = [\"appel\", \"banaan\", \"kers\", \"doerian\"]\n",
    "print(fruitlist)\n",
    "fruitlist.insert(2, \"mango\")\n",
    "print(fruitlist)"
   ]
  },
  {
   "cell_type": "markdown",
   "metadata": {},
   "source": [
    "### 7.4.3 remove()\n",
    "\n",
    "*remove()* laat je een element van de list verwijderen. Het element dat je wilt verwijderen\n",
    "geef je mee als argument. Als dit element meerdere keren voorkomt in de list, wordt\n",
    "de eerste instantie (die met de laagste index) verwijderd. Als je een element probeert te\n",
    "verwijderen dat niet voorkomt op de list, geeft dat een runtime error."
   ]
  },
  {
   "cell_type": "code",
   "execution_count": null,
   "metadata": {},
   "outputs": [],
   "source": [
    "fruitlist = [\"appel\", \"banaan\", \"kers\", \"doerian\"]\n",
    "print(fruitlist)\n",
    "fruitlist.remove(\"banaan\")\n",
    "print(fruitlist)"
   ]
  },
  {
   "cell_type": "markdown",
   "metadata": {},
   "source": [
    "### 7.4.4 index()\n",
    "\n",
    "*index()* retourneert de index van de eerste instantie in een list van het element dat als\n",
    "argument aan de methode is meegegeven. Een runtime error volgt als het element niet\n",
    "voorkomt op de list."
   ]
  },
  {
   "cell_type": "code",
   "execution_count": null,
   "metadata": {},
   "outputs": [],
   "source": [
    "fruitlist = [\"appel\", \"banaan\", \"kers\", \"banaan\", \"doerian\"]\n",
    "print(fruitlist.index(\"banaan\" ))"
   ]
  },
  {
   "cell_type": "markdown",
   "metadata": {},
   "source": [
    "**Opgave 7.6** \n",
    "\n",
    "Schrijf een functie tel_voorkomens met twee parameters: een list en een element. De functie heeft als returnwaarde een integer geeft die aangeeft hoe vaak het gegeven element in de list voorkomt."
   ]
  },
  {
   "cell_type": "markdown",
   "metadata": {},
   "source": [
    "### 7.4.5 count()\n",
    "\n",
    "*count()* retourneert een integer die aangeeft hoe vaak het element dat als argument is\n",
    "meegegeven voorkomt in de list."
   ]
  },
  {
   "cell_type": "code",
   "execution_count": null,
   "metadata": {},
   "outputs": [],
   "source": [
    "fruitlist = [\"appel\", \"banaan\", \"kers\", \"banaan\", \"doerian\"]\n",
    "print(fruitlist.count(\"banaan\"))"
   ]
  },
  {
   "cell_type": "markdown",
   "metadata": {},
   "source": [
    "**Opgave 7.7** \n",
    "\n",
    "Schrijf een functie die een list als parameter aanneemt. De functie heeft als returnwaarde een nieuwe list waarbij de dubbels uit de originele lijst verwijderd zijn."
   ]
  },
  {
   "cell_type": "markdown",
   "metadata": {},
   "source": [
    "## 7.5 List als argument\n",
    "\n",
    "**Opgave 7.8** Herneem opgave 7.2 tot 7.4 maar maak nu functies om de grootste en kleinste waarde en de som van een list van gehele getallen te berekenen."
   ]
  },
  {
   "cell_type": "markdown",
   "metadata": {},
   "source": [
    "Als je een list aan een functie meegeeft als argument, dan is dit een zogeheten **“call by\n",
    "reference”** (“doorgeven als referentie” – waarbij je een referentie kunt beschouwen als\n",
    "het adres van de variabele).\n",
    "Dit betekent dat de functie de inhoud van de list kan wijzigen.\n",
    "\n",
    "Dit is een belangrijk punt: als je een list\n",
    "meegeeft als argument aan een functie, dan krijgt de functie het adres van de list\n",
    "en de functie kan dus de inhoud van de list wijzigen.\n",
    "\n",
    "Je moet dus weten of een functie waaraan je een list meegeeft, de list wel of niet zal wijzigen.\n",
    "\n",
    "Maak gebruik van de website www.pythontutor.com/visualize.html om het onderstaande programma eens te doorlopen en te zien hoe de list als argument wordt doorgegeven."
   ]
  },
  {
   "cell_type": "code",
   "execution_count": null,
   "metadata": {},
   "outputs": [],
   "source": [
    "def wijziglist(mijn_list, index):\n",
    "    if index >= 0 and index < len(mijn_list):\n",
    "        mijn_list[index] = \"FRUIT!\"\n",
    "\n",
    "\n",
    "fruitlist = [\"appel\", \"banaan\", \"kers\", \"doerian\"]\n",
    "te_wijzigen = 2\n",
    "wijziglist(fruitlist, te_wijzigen)\n",
    "print(fruitlist)"
   ]
  },
  {
   "cell_type": "markdown",
   "metadata": {},
   "source": [
    "![alt text](.\\images\\list_call_by_reference.jpg \"Call by reference\")"
   ]
  },
  {
   "cell_type": "markdown",
   "metadata": {},
   "source": [
    "## 7.6 Geneste lists\n",
    "\n",
    "Elementen van een list kunnen zelf ook lists zijn (die ook weer lists kunnen bevatten,\n",
    "etcetera). Op deze manier kun je een matrix in je programma creëren. Bijvoorbeeld, je\n",
    "kunt een boter-kaas-eieren bord als volgt bouwen (een liggend streepje is een lege cel):"
   ]
  },
  {
   "cell_type": "markdown",
   "metadata": {},
   "source": [
    "![alt text](.\\images\\boter_kaas_eieren.jpg \"Boter-kaas-eieren\")"
   ]
  },
  {
   "cell_type": "code",
   "execution_count": null,
   "metadata": {},
   "outputs": [],
   "source": [
    "bord = [[\"-\", \"-\", \"-\"], [\"-\", \"-\", \"-\"], [\"-\", \"-\", \"-\"]]"
   ]
  },
  {
   "cell_type": "markdown",
   "metadata": {},
   "source": [
    "De eerste rij van het bord is `bord[0]`, de tweede rij is `bord[1]` en de derde rij is `bord[2]`.\n",
    "Als je de eerste cel van de eerste rij wilt benaderen, is dat `bord[0][0]`, de tweede cel is\n",
    "`bord[0][1]` en de derde cel is `bord[0][2]`. Bijvoorbeeld, om een “X” in het midden van\n",
    "het bord te plaatsen en een “O” in de linkerbovenhoek, gebruik je de code hieronder. Deze\n",
    "code toont ook het bord op een nette manier (met labels op de rijen en kolommen)."
   ]
  },
  {
   "cell_type": "code",
   "execution_count": null,
   "metadata": {},
   "outputs": [],
   "source": [
    "def toon_bord(spelbord):\n",
    "    print(\"  1 2 3\" )\n",
    "    for rij in range(3):\n",
    "        print(rij + 1, end=\" \")\n",
    "        for kol in range(3):\n",
    "            print(spelbord[rij][kol], end=\" \")\n",
    "        print()\n",
    "\n",
    "bord = [[\"-\", \"-\", \"-\"], [\"-\", \"-\", \"-\"], [\"-\", \"-\", \"-\"]]\n",
    "bord[1][1] = \"X\"\n",
    "bord[0][2] = \"O\"\n",
    "toon_bord(bord)"
   ]
  },
  {
   "cell_type": "markdown",
   "metadata": {},
   "source": [
    "## 7.7 List casting\n",
    "\n",
    "**range()** genereert een collectie getallen.\n",
    "Als je deze getallen wilt gebruiken in de vorm van een list, moet je list casting doen."
   ]
  },
  {
   "cell_type": "code",
   "execution_count": null,
   "metadata": {},
   "outputs": [],
   "source": [
    "numlist = list(range(1, 11))\n",
    "print(numlist)"
   ]
  },
  {
   "cell_type": "markdown",
   "metadata": {},
   "source": [
    "# Wat je geleerd hebt\n",
    "\n",
    "In dit hoofdstuk is het volgende besproken:\n",
    "* Lists\n",
    "* Veranderbaarheid van lists\n",
    "* Lists als argumenten\n",
    "* Nesten van lists\n",
    "* List casting"
   ]
  }
 ],
 "metadata": {
  "kernelspec": {
   "display_name": "Python 3",
   "language": "python",
   "name": "python3"
  },
  "language_info": {
   "codemirror_mode": {
    "name": "ipython",
    "version": 3
   },
   "file_extension": ".py",
   "mimetype": "text/x-python",
   "name": "python",
   "nbconvert_exporter": "python",
   "pygments_lexer": "ipython3",
   "version": "3.7.0"
  }
 },
 "nbformat": 4,
 "nbformat_minor": 1
}
