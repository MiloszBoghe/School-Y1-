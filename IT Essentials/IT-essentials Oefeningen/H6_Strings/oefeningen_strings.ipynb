{
 "cells": [
  {
   "cell_type": "markdown",
   "metadata": {
    "collapsed": true
   },
   "source": [
    "# Oefeningen hoofdstuk 6: Strings"
   ]
  },
  {
   "cell_type": "markdown",
   "metadata": {},
   "source": [
    "**Oefening 6.1**\n",
    "\n",
    "Bepaal in een tekst de positie van de eerste t of T. Vervang van dan af alle letters door hoofdletters als de tekst bestaat uit een oneven aantal tekens, door kleine letters als de tekst bestaat uit een even aantal tekens. \n",
    "Geef een gepaste melding als er in de tekst geen t of T voorkomt."
   ]
  },
  {
   "cell_type": "markdown",
   "metadata": {},
   "source": [
    "**Oefening 6.2**\n",
    "\n",
    "Schrijf een programma om een ingevoerde tekst om te keren.\n",
    "Vb “dit is een tekst” wordt dan “tsket nee si tid”."
   ]
  },
  {
   "cell_type": "markdown",
   "metadata": {},
   "source": [
    "**Oefening 6.3**\n",
    "\n",
    "Schrijf programma waarmee je n karakters via het toetsenbord ingeeft, n wordt als gegeven via het toetsenbord ingegeven. \n",
    "+ als dit karakter een letter is, dan controleer je of deze letter in hoofdletters of in kleine letters is ingegeven. Je drukt dit karakter af met de melding of het al dan niet een hoofdletter is.\n",
    "+ als dit karakter een cijfer is dan tel je dit op en hou je een som bij van alle ingegeven cijfers.\n",
    "+ als dit karakter geen letter en geen cijfer is dan druk je dit karakter af met de vermelding “onbekend”\n"
   ]
  },
  {
   "cell_type": "markdown",
   "metadata": {},
   "source": [
    "**Oefening 6.4**\n",
    "\n",
    "Schrijf een programma om van 2 tekstvariabelen één tekstvariabele te maken. De nieuwe variabele bekom je door de eerste 4 letters van 1ste tekstvariabele te nemen (indien deze minder dan 4 letters bevat dient dit van achter aangevuld te worden met `*`) in hoofdletters gevolgd door de laatste 4 letters van de 2de tekst variabele (indien deze minder dan 4 letters bevat dient dit van voor aangevuld te worden met `+`) in kleine letters."
   ]
  },
  {
   "cell_type": "markdown",
   "metadata": {},
   "source": [
    "**Oefening 6.5**\n",
    "\n",
    "Een bepaald weekblad gunt zijn lezers graag een ontspannend weekendje uit, aan een schappelijke prijs. Schrijf een programma waarmee de lezer de prijs kan bepalen van een nachtje. Via toetsenbord wordt het aantal volwassenen en het aantal kinderen ingegeven. \n",
    "Vervolgens worden volgende gegevens via het toetsenbord ingevoerd: hotelcode (bestaat uit twee letters gevolgd door 4 cijfers), aantal sterren (getal van 1 (zeer simpel hotel) tot 5 (super-de-luxe hotel)) en kindercode. \n",
    "De invoer stopt als er voor hotelcode een `/` wordt ingegeven.\n",
    "\n",
    "Maak een lijst met per hotel: het aantal sterren, de prijs per persoon per nacht, de prijs per kind per nacht en de totale prijs.\n",
    "\n",
    "Het bepalen van de prijs per persoon dient in een functie te gebeuren.\n",
    "De prijs per persoon wordt als volgt berekend:\n",
    "+ 4- en 5- sterrenhotels kosten 60 € \n",
    "+ 3-sterrenhotels kosten 56 € (uitgezonderd: 3-sterrenhotels in Brussel (hotelcode begint met BR) en Antwerpen (hotelcode begint met AN) kosten eveneens 60 €)\n",
    "+ 2- en 1-sterrenhotels kosten 48 €\n",
    "\n",
    "LET OP:  Hilton hotels (hotelcode begint met HI) kunnen hun kamers niet aanbieden aan deze bodemprijs, en rekenen steeds 70€ aan. \n",
    "\n",
    "De prijs per kind wordt als volgt berekend:\n",
    "+ indien kindercode \"A\" is geldt: kinderen in 1- en 2-sterrenhotels zijn gratis, evenals in alle hotels die niet in Brussel gelegen zijn.\n",
    "+ In alle andere gevallen betalen kinderen 50% van de prijs van een volwassene.\n",
    "\n",
    "Dit programma geeft bijvoorbeeld volgende output:\n",
    "```\n",
    "HI1234***** 70.00 0.00 140.00\n",
    "BR4568**    48.00 24.00 168.00\n",
    "AN3216****  60.00 30.00 210.00\n",
    "PN4444***   56.00 28.00 196.00\n",
    "```"
   ]
  },
  {
   "cell_type": "markdown",
   "metadata": {},
   "source": [
    "**Oefening 6.6**\n",
    "\n",
    "Maak een programma om een prijsofferte van een garagepoort te maken. Geef naast de\n",
    "naam van de verkoper, de hoogte en de breedte van de poort in meter in. Daarnaast moet\n",
    "ingegeven worden of men een speciale kleur wenst of niet. Op basis van deze gegevens wordt\n",
    "een prijsofferte gemaakt. De prijsofferte bevat naast een offertenummer, de oppervlakte\n",
    "van de poort, het gewicht van de poort, het type motor en de totaalprijs van de poort.\n",
    "Hou rekening met het volgende:\n",
    "+ De poort is minimaal 2m hoog en maximaal 6,5m hoog. Maak een methode om te\n",
    "controleren of de opgegeven hoogte correct is. Zolang geen correcte hoogte wordt\n",
    "opgegeven, blijf je de gebruiker voor een geldige hoogte van de garagepoort\n",
    "vragen.\n",
    "+ Doe hetzelfde voor de input van de breedte van de garagepoort. De minimale\n",
    "breedte is 2m, de maximale breedte is 8m.\n",
    "+ Maak een methode om de oppervlakte van de poort te berekenen.\n",
    "+ Maak een methode om het gewicht van de garagepoort te berekenen. Het\n",
    "aluminium dat gebruikt wordt in de poort weegt 11 kg/m².\n",
    "+ Aan de hand van het gewicht kunnen we ook de motor voor de garagepoort\n",
    "bepalen. Voor poorten die meer wegen dan 300 kg gebruiken we motor “X300”.\n",
    "Voor poorten van 150 kg tot en met 300 kg gebruiken we motor “A105”. Kleinere\n",
    "poorten tot 150 kg kunnen opgetrokken worden met motor “A101”.\n",
    "Iedere motor heeft ook een andere prijs. Maak een methode die, gegeven de\n",
    "motornaam, de juiste prijs geeft.\n",
    "<table>\n",
    "    <tr><th>Motornaam</th><th>Toegelaten gewicht</th><th>Prijs</th></tr>\n",
    "    <tr><td>A101</td><td> &lt;150kg </td><td> €120</td></tr>\n",
    "    <tr><td>A105</td><td> &gt;= 150kg en &lt;= 300 kg </td><td> €220.5</td></tr>\n",
    "    <tr><td>X300</td><td>&gt;300 kg</td><td>€250.5</td></tr>\n",
    "</table>\n",
    "+ Maak een methode om de prijs van de poort te berekenen. De formule voor het\n",
    "berekenen van de prijs van de poort is: oppervlakte * 113,5/m² + prijs van de\n",
    "motor.\n",
    "De bovenstaande prijsberekening is enkel voor de standaard-kleuren. Voor een\n",
    "speciale kleur wordt een toeslag van 10% verrekend op de basisprijs (prijs zonder motor) van de\n",
    "garagepoort.\n",
    "+ Maak een methode voor het genereren van een offertenummer.\n",
    "Het formaat van het offerte nummer is `2018_<<NAAM VERKOPER>>_<<integer totaalprijs omgekeerd>>`.\n",
    "Zorg ervoor dat de naam van de verkoper in uppercase wordt\n",
    "geschreven. Het geheel deel van de totaalprijs wordt omgekeerd en als laatste geplaatst.\n",
    "Voorbeeld van een offertenummer van verkoper1 voor een offerte met totaalprijs\n",
    "912.31 is “2018_VERKOPER1_219”."
   ]
  },
  {
   "cell_type": "markdown",
   "metadata": {},
   "source": [
    "**Oefening 6.7**\n",
    "\n",
    "Schrijf een programma om een ingevoerde tekst te encrypteren.\n",
    "Bij elk teken wordt een getal bijgeteld. Dit getal is een willekeurig geheel getal >=2 en\n",
    "<=24 en moet een veelvoud zijn van 2.\n",
    "Maak voor het encrypteren gebruik van een functie met de ingevoerde tekst en het\n",
    "gegenereerde getal als parameters. Deze functie heeft de geëncrypteerde tekst als\n",
    "uitvoer.\n",
    "Vb “dit is een belangrijke tekst” wordt dan `“hmx$mw$iir$fiperkvmnoi$xiowx”` als het\n",
    "gegenereerde getal gelijk is aan 4."
   ]
  },
  {
   "cell_type": "markdown",
   "metadata": {},
   "source": [
    "**Oefening 6.8**\n",
    "\n",
    "Schrijf een functie om volgende schermafdruk te bekomen.\n",
    "\n",
    "```\n",
    "R\t\t\t\t\n",
    "S T\t\t\t\n",
    "U V W\t\t\n",
    "X Y Z A\t\n",
    "B C D E F\n",
    "```\n",
    "\n",
    "De grootte van de driehoek en de beginletter kunnen variëren en wordt als gegeven via het toetsenbord ingegeven. Indien je voorbij Z bent, moet je verdergaan vanaf A."
   ]
  },
  {
   "cell_type": "code",
   "execution_count": null,
   "metadata": {},
   "outputs": [],
   "source": []
  },
  {
   "cell_type": "code",
   "execution_count": 1,
   "metadata": {},
   "outputs": [],
   "source": []
  },
  {
   "cell_type": "code",
   "execution_count": 1,
   "metadata": {},
   "outputs": [],
   "source": []
  },
  {
   "cell_type": "code",
   "execution_count": 1,
   "metadata": {},
   "outputs": [],
   "source": []
  },
  {
   "cell_type": "code",
   "execution_count": 1,
   "metadata": {},
   "outputs": [],
   "source": []
  },
  {
   "cell_type": "code",
   "execution_count": 1,
   "metadata": {},
   "outputs": [],
   "source": []
  },
  {
   "cell_type": "code",
   "execution_count": 1,
   "metadata": {},
   "outputs": [],
   "source": []
  },
  {
   "cell_type": "code",
   "execution_count": 1,
   "metadata": {},
   "outputs": [],
   "source": []
  },
  {
   "cell_type": "code",
   "execution_count": 1,
   "metadata": {},
   "outputs": [],
   "source": []
  },
  {
   "cell_type": "code",
   "execution_count": 1,
   "metadata": {},
   "outputs": [],
   "source": []
  },
  {
   "cell_type": "code",
   "execution_count": 1,
   "metadata": {},
   "outputs": [],
   "source": []
  },
  {
   "cell_type": "code",
   "execution_count": 1,
   "metadata": {},
   "outputs": [],
   "source": []
  },
  {
   "cell_type": "code",
   "execution_count": 1,
   "metadata": {},
   "outputs": [],
   "source": []
  },
  {
   "cell_type": "code",
   "execution_count": 1,
   "metadata": {},
   "outputs": [],
   "source": []
  },
  {
   "cell_type": "code",
   "execution_count": 1,
   "metadata": {},
   "outputs": [],
   "source": []
  },
  {
   "cell_type": "code",
   "execution_count": 1,
   "metadata": {},
   "outputs": [],
   "source": []
  },
  {
   "cell_type": "code",
   "execution_count": 1,
   "metadata": {},
   "outputs": [],
   "source": []
  },
  {
   "cell_type": "code",
   "execution_count": null,
   "metadata": {},
   "outputs": [],
   "source": []
  }
 ],
 "metadata": {
  "kernelspec": {
   "display_name": "Python 3",
   "language": "python",
   "name": "python3"
  },
  "language_info": {
   "codemirror_mode": {
    "name": "ipython",
    "version": 3
   },
   "file_extension": ".py",
   "mimetype": "text/x-python",
   "name": "python",
   "nbconvert_exporter": "python",
   "pygments_lexer": "ipython3",
   "version": "3.7.0"
  }
 },
 "nbformat": 4,
 "nbformat_minor": 1
}
