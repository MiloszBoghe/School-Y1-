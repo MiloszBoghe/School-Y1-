{
 "cells": [
  {
   "cell_type": "markdown",
   "metadata": {
    "collapsed": true
   },
   "source": [
    "# Extra oefeningen hoofdstuk 6: Strings"
   ]
  },
  {
   "cell_type": "markdown",
   "metadata": {},
   "source": [
    "**Oefening 6.1**\n",
    "\n",
    "Schrijf een programma om een tekst waarvan het aantal letters deelbaar is door 3 om te zetten naar hoofdletters, als het aantal letters niet deelbaar is door 3 moet de tekst omgezet worden naar kleine letters."
   ]
  },
  {
   "cell_type": "markdown",
   "metadata": {},
   "source": [
    "**Oefening 6.2**\n",
    "\n",
    "Schrijf een functie genereer_tekst(n). Hierbij is n het aantal tekens dat de tekst moet bevatten, de tekst bevat alleen de hoofdletters van het alfabet."
   ]
  },
  {
   "cell_type": "markdown",
   "metadata": {},
   "source": [
    "**Oefening 6.3**\n",
    "\n",
    "Schrijf een functie keer_om_n(tekst, n) met als output een string waarbij de letters van de string in omgekeerde volgorde voorkomen en elke letter n keer herhaald werd."
   ]
  },
  {
   "cell_type": "markdown",
   "metadata": {},
   "source": [
    "**Oefening 6.4**\n",
    "\n",
    "Maak een functie sorteer om de letters in een tekst alfabetisch (enkel kleine letters) te rangschikken. \n",
    "sorteer(“abdaba”) geeft als output aaabbd.\n"
   ]
  },
  {
   "cell_type": "markdown",
   "metadata": {},
   "source": [
    "**Oefening 6.5**\n",
    "\n",
    "Vul een variabele teken per teken op met de letters van het alfabet (kleine letters).\n",
    "Druk de inhoud af.\n",
    "Zorg er vervolgens voor dat telkens de tweede letter in een hoofdletter omgezet wordt, aBcDeF….yZ.\n",
    "Druk de inhoud op nieuw af.\n",
    "Vervang de letter ‘H’ door een ‘X’."
   ]
  },
  {
   "cell_type": "markdown",
   "metadata": {},
   "source": [
    "**Oefening 6.6**\n",
    "\n",
    "Schrijf een functie om in een zin elke klinker te vervangen door een teken.\n",
    "Test je methode uit door een zin en een teken in te geven via het toetsenbord."
   ]
  },
  {
   "cell_type": "markdown",
   "metadata": {},
   "source": [
    "**Oefening 6.7**\n",
    "\n",
    "Schrijf een functie om een productcode te controleren. 1ste positie l, L, r of R (L van\n",
    "links, R van rechts), gevolgd door 5 tekens, gevolgd door bo of on (bo boven, on onder). De\n",
    "functie geeft een boolean terug.\n",
    "Test je methode uit door een productcode via het toetsenbord in te geven. Je programma\n",
    "moet een productcode blijven vragen totdat er een juiste productcode wordt ingegeven.\n",
    "Zorg ervoor dat als er een foutieve code wordt ingegeven dat er een gepaste mededeling\n",
    "wordt afgedrukt. Bvb de productiecode bevat niet het juist aantal tekens, de\n",
    "productiecode begint niet met l, L, r of R …."
   ]
  },
  {
   "cell_type": "markdown",
   "metadata": {},
   "source": [
    "**Oefening 6.8**\n",
    "\n",
    "Maak een functie vervorm die een gegeven tekst omvormt volgens het volgende principe: Eerst worden de letters genomen die op plaats 1, 4, 7, … komen, vervolgens de letters die op plaats 2, 5, 8, … komen en tenslotte de letters die op plaats 3, 6, 9, … komen\n",
    "Voorbeeld \t\t\n",
    "```\n",
    "t o e g e p a s t e i n f o r m a t i c a\n",
    "t g a e f m i o e s i o a c e p t n r t a\n",
    "```\n",
    "\n",
    "Invoerargumenten: een tekst\n",
    "\n",
    "Uitvoer: de vervormde tekst\n"
   ]
  },
  {
   "cell_type": "markdown",
   "metadata": {},
   "source": [
    "**Oefening 6.9**\n",
    "\n",
    "Maak een functie vercijfer die een gegeven tekst omvormt volgens het volgende principe: De tekst wordt opgedeeld in groepjes van 5 letters. Binnen elke groep worden de letters van achter naar voren geplaatst. Indien in de laatste groep geen 5 letters zitten wordt deze groep onveranderd gelaten.\n",
    "Voorbeeld \t\t\n",
    "```\n",
    "t o e g e p a s t e i n f o r m a t i c a\n",
    "e g e o t e t s a p r o f n i c i t a m a\n",
    "\n",
    "```\n",
    "\n",
    "Invoerargument: een tekst\n",
    " \n",
    "Uitvoer: de vercijferde tekst\n"
   ]
  },
  {
   "cell_type": "markdown",
   "metadata": {},
   "source": [
    "**Oefening 6.10**\n",
    "\n",
    "Een bepaalde gemeente verkoopt verscheidene bouwgronden. Hiertoe wordt voor alle geïnteresseerde kopers de prioriteit bepaald en nagegaan of ze in aanmerking komen voor een goedkope bouwlening.\n",
    "Per geïnteresseerde koper wordt volgende ingegeven: een code, naam (naam van de man: achternaam spatie voornaam), naam_vrouw (naam van de vrouw: achternaam spatie voornaam), inkomen_man (inkomen man), inkomen_vrouw (inkomen vrouw), aantal_kinderen.\n",
    "Opmerkingen bij de gegevens:\n",
    "+ De code bestaat uit:\n",
    "    + ofwel het karakter J gevolgd door 4 cijfers: bvb. J1999 betekent dat de kandidaat koper(s) in een sociale woning wonen sinds het jaar 1999  \n",
    "    + ofwel N wat betekent dat de kandidaat koper(s) niet in een sociale woning wonen.\n",
    "+ Bij een alleenstaande man, wordt voor nv de waarde xx ingegeven en voor inkomen_vrouw de waarde 0. Bij een alleenstaande vrouw wordt voor naam de waarde xx ingegeven en voor inkomen_man de waarde 0.\n",
    "+ De invoer stopt als we voor de code S ingeven.\n",
    "\n",
    "Gevraagd:\n",
    "\n",
    "Maak een lijst van alle kandidaat-kopers, met een afdruk de familienaam (voor de juiste lay-out zie hieronder), het toegekende prioriteitsnummer (d.w.z. hoe lager het toegekende prioriteitsnummer, hoe meer kans dat de kandidaat koper in aanmerking komt voor de aankoop) en of ze in aanmerking komen voor een goedkope bouwlening van de stad.\n",
    "Dit prioriteitsnummer wordt als volgt berekend in een functie:\n",
    "\n",
    "+ Bij een gezinsinkomen <2000€ en 3 of meer kinderen:  prioriteit 1\n",
    "+ Bij een gezinsinkomen <2000€ en minder dan 3 kinderen: prioriteit 2\n",
    "+ Bij een gezinsinkomen >= 2000€ en <2500€: prioriteit 3\n",
    "+ Bij een gezinsinkomen >= 2500€: prioriteit 4\n",
    "\n",
    "LET OP: Mensen die minder dan 5 jaar in een sociale woning wonen, krijgen prioriteit 5!!\n",
    "\n",
    "Volgende personen komen in aanmerking voor een goedkopere bouwlening van de stad:\n",
    "+ een alleenstaande die minstens 1 kind heeft\n",
    "+ een alleenstaande met een inkomen van minder dan 1500€\n",
    "\n",
    "Deze personen mogen niet in een sociale woning wonen.\n",
    "Bij deze personen wordt er een J gedrukt in de laatste kolom van het overzicht. \n",
    "Het bepalen van een al dan niet goedkopere bouwlening gebeurt in een functie.\n",
    "\n",
    "Deze lijst moet er als volgt uit zien\n",
    "```\n",
    "nr  familienaam                             prioriteit  bouwlening\n",
    "1.  De Heer en Mevrouw T. Peeters-Vandijck  ***\t\n",
    "2.  Mevrouw I. Schoofs                      *           J\n",
    "3.  Meneer P. Bijers                        *****     \t\n",
    "4.  De Heer en Mevrouw K. Vos-Maes          **\t\n",
    "5.\t...\t\t\n",
    "```\n",
    "\n",
    "Opmerkingen:\n",
    "+ De familienaam bij alleenstaanden bekom je door de eerste letter te nemen van de voornaam gevolgd door de familienaam, bij de anderen is het de eerste letter van de voornaam van de man gevolgd door de familienaam van de man en de familienaam van de vrouw.\n",
    "+ Prioriteit wordt weergeven met sterretjes. Bv. prioriteit 4 betekent een afdruk van 4 sterretjes. De afdruk gebeurt met behulp van een functie.\n",
    "\n",
    "Er moet ook afgedrukt worden hoeveel procent van de kandidaat kopers in een sociale woning wonen. Dit percentage moet afgerond zijn tot 1 decimaal na de komma.\n",
    "\n",
    "Wat is het hoogste inkomen van de kandidaat kopers? Is dit een alleenstaande man, een alleenstaande vrouw of een gezin?"
   ]
  }
 ],
 "metadata": {
  "kernelspec": {
   "display_name": "Python 3",
   "language": "python",
   "name": "python3"
  },
  "language_info": {
   "codemirror_mode": {
    "name": "ipython",
    "version": 3
   },
   "file_extension": ".py",
   "mimetype": "text/x-python",
   "name": "python",
   "nbconvert_exporter": "python",
   "pygments_lexer": "ipython3",
   "version": "3.7.0"
  }
 },
 "nbformat": 4,
 "nbformat_minor": 1
}
