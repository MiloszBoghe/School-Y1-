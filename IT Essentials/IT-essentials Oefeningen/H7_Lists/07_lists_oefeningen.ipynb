{
 "cells": [
  {
   "cell_type": "markdown",
   "metadata": {},
   "source": [
    "# Oefeningen hoofdstuk 7: Lists"
   ]
  },
  {
   "cell_type": "markdown",
   "metadata": {},
   "source": [
    "**Oefening 7.1** \n",
    "\n",
    "Geef 15 gehele getallen in via het toetsenbord. \n",
    "Druk het gemiddelde af weergegeven met 1 cijfer na de komma.\n",
    "Hoeveel getallen zijn er kleiner dan het gemiddelde van deze 15 getallen?\n",
    "Hoeveel procent is dit van de ingegeven getallen?"
   ]
  },
  {
   "cell_type": "markdown",
   "metadata": {},
   "source": [
    "**Oefening 7.2**\n",
    "\n",
    "Creëer een list met 500 elementen waarbij de elementen willekeurige gehele getallen\n",
    "zijn tussen 0 en 10000 (beiden inclusief).\n",
    "\n",
    "Als er minder dan de helft (250 elementen) van de getallen groter zijn dan 5000, dan tel je alle elementen van de list die groter zijn dan 5000 op en druk het resultaat van deze optelling af.\n",
    "\n",
    "Als er 250 of meer getallen groter zijn dan 5000, dan tel je alle elementen van de list die groter zijn dan 8000 op en drukt dit resultaat af."
   ]
  },
  {
   "cell_type": "markdown",
   "metadata": {},
   "source": [
    "**Oefening 7.3**\n",
    "\n",
    "Er worden via het toetsenbord 10 getallen ingelezen. Schrijf een programma dat de positieve getallen toevoegt in een list met de naam *positieve_getallen* en de strikt negatieve getallen toevoegt in een list met de naam *negatieve_getallen*. \n",
    "\n",
    "+ Druk de lengte en de waarden van beide lists af.\n",
    "+ Bepaal het kleinste getal van de list *negatieve_getallen*."
   ]
  },
  {
   "cell_type": "markdown",
   "metadata": {},
   "source": [
    "**Oefening 7.4**\n",
    "\n",
    "Tel hoe vaak iedere letter voorkomt in een string (zonder verschil te\n",
    "maken tussen hoofd- en kleine letters). Je mag ieder teken dat geen letter is negeren. Print\n",
    "de letters met het aantal malen dat ze voorkomen. Print de letter wel enkel af indien de letter voorkomt in de oorspronkelijke tekst."
   ]
  },
  {
   "cell_type": "markdown",
   "metadata": {},
   "source": [
    "**Oefening 7.5**\n",
    "\n",
    "Schrijf een programma om de verkiezingsresultaten van de verkiezing “student van het\n",
    "jaar” te verwerken. Er zijn 4 kandidaten waarop men kan stemmen. Via het toetsenbord\n",
    "wordt de keuze van een aantal personen ingegeven. De keuze is de code van de student\n",
    "waarvoor men stemt. De invoer stopt wanneer voor de keuze de waarde 0 wordt\n",
    "ingegeven.\n",
    "+ code 1: An Janssen\n",
    "+ code 2: Bart Vriends\n",
    "+ code 3: Andries Michels\n",
    "+ code 4: Inge Kaas\n",
    "\n",
    "Druk per kandidaat de naam, het aantal personen dat voor deze kandidaat gestemd heeft\n",
    "en het procentueel aandeel van de gekregen stemmen in het totaal aantal uitgebrachte\n",
    "stemmen af. Het procentueel aandeel wordt weergegeven met 1 cijfer na de komma."
   ]
  },
  {
   "cell_type": "markdown",
   "metadata": {},
   "source": [
    "**Oefening 7.6**\n",
    "\n",
    "Maak een programma om het juiste sterrenbeeld van meerdere personen af te drukken.\n",
    "Geef de naam, de voornaam en de geboortedatum van de persoon in. De geboortedatum geef\n",
    "je in in het formaat dd/mm/yyyy (bijv. 15/05/1999).\n",
    "De invoer stopt wanneer voor de naam een “/” wordt ingegeven.\n",
    "De sterrenbeelden zijn (in volgorde van de maanden van het jaar): waterman, vissen, ram,\n",
    "stier, tweelingen, kreeft, leeuw, maagd, weegschaal, schorpioen, boogschutter, steenbok.\n",
    "We gaan er van uit dat telkens de 21ste van de maand een nieuw sterrenbeeld begint. Dus\n",
    "wie jarig is tussen 21 januari en 20 februari is een waterman, wie jarig is tussen 21\n",
    "februari en 20 maart heeft als sterrenbeeld vissen, …\n",
    "Het bepalen van het juiste sterrenbeeld moet met een functie gebeuren.\n",
    "Voor elke persoon moet de eerste letter van de voornaam gevolgd door een punt gevolgd\n",
    "door de achternaam (dit alles in hoofdletters) afgedrukt worden. Het afdrukken van de naam van een persoon dient te gebeuren in een functie.\n",
    "\n",
    "Bv.: Hans Andersen geboren op 3/2 geeft: H. ANDERSEN waterman"
   ]
  },
  {
   "cell_type": "markdown",
   "metadata": {},
   "source": [
    "**Oefening 7.7**\n",
    "\n",
    "We schrijven een programma om de resultaten te verwerken van de finale van de wedstrijd \"Slimste student ter wereld\". Voor deze finale worden 10 meerkeuzevragen gesteld. De antwoorden van de deelnemers worden verwerkt m.b.v. een computer.\n",
    "Geef eerst de 10 juiste antwoorden via toetsenbord in (bv. \"ABCBBCADBC\"). De meerkeuzevragen hebben elk 4 keuzemogelijkheden, nl. A, B, C of D.\n",
    "Per deelnemer beschikken we over volgende gegevens:  deelnemersnummer, geboortedatum, de 10 antwoorden van de deelnemer (A, B, C, D of E (E = vraag blanco gelaten)), de tijd in sec waarin de vragen werden beantwoord. De gegevens van 1 deelnemer worden in 1 keer via het toetsenbord ingegeven: bijv. \"1234 14/05/1999 ABEBDCCDBC 115\". De invoer stopt als de waarde 0 wordt ingegeven.\n",
    "\n",
    "De punten voor een deelnemer wordt als volgt berekend:\n",
    "+ 2 punten per juist antwoord\n",
    "+ 0 punten per vraag die de deelnemer heeft opengelaten\n",
    "+ -1 punt per fout beantwoorde vraag.\n",
    "De deelnemers vertrekken vanaf 20 punten. \n",
    "\n",
    "Er moet een lijst worden afgedrukt die er als volgt uitziet:\n",
    "```\n",
    "1. 1234  18 jaar  2u 12m  42 ptn\n",
    "2. 3510  21 jaar  1u 56m  52 ptn\n",
    "3. 3511  20 jaar  2u 02m  30 ptn\n",
    "```\n",
    "De lijst wordt afgedrukt in volgorde van ingave. \n",
    "\n",
    "Bij het bepalen van de leeftijd, houdt men rekening met de verjaardagsdatum.\n",
    "Stel vandaag is het 10/10/2018, iemands geboortedatum is 22/11/2000 deze persoon is op dit moment dus 17 jaar oud.  Gebruik een functie om de leeftijd te berekenen. De huidige datum wordt als gegeven ingegeven.\n",
    "\n",
    "Gebruik een functie om de tijd in seconden om te zetten naar uren en minuten.  Bij een restduur van 30 seconden of meer, wordt het aantal minuten naar boven afgerond.\n",
    "\n",
    "Gebruik een functie om het resultaat per kandidaat te berekenen."
   ]
  },
  {
   "cell_type": "markdown",
   "metadata": {},
   "source": [
    "**Oefening 7.8**\n",
    "\n",
    "In een geneste list zitten de cijfers behaald op 4 vakken (punten op 20) van 5 studenten. Geef student per student de cijfers voor de 4 vakken in via toetsenbord.\n",
    "\n",
    "![opgave_resultaten.JPG](images/opgave_resultaten.JPG)\n",
    "\n",
    "Bepaal voor elk vak de laagst behaalde score en de gemiddeld behaalde score. Druk deze\n",
    "resultaten ook af, het gemiddelde met 1 cijfer na de komma.\n",
    "\n",
    "*Uitbreiding:* druk telkens per vak ook af welke student de laagste score behaalde. Je mag\n",
    "er vanuit gaan dat er zo maar 1 student is. "
   ]
  },
  {
   "cell_type": "markdown",
   "metadata": {},
   "source": [
    "**Oefening 7.9**\n",
    "\n",
    "Initialiseer een array met volgende voorraadgegevens van T-shirts:\n",
    "\n",
    "![opgave_tshirts.JPG](images/opgave_tshirts.JPG)\n",
    "\n",
    "Een T-shirt moet bijbesteld worden als er aan volgende voorwaarde is voldaan:\n",
    "het aantal T-shirts van de betrokken maat en kleur mag niet minder bedragen dan 1/3 van\n",
    "het totaal aantal T-shirts van die maat.\n",
    "Maak een lijst van de T-shirts met vermelding van kleur en maat, die bijbesteld moeten\n",
    "worden."
   ]
  },
  {
   "cell_type": "markdown",
   "metadata": {},
   "source": [
    "**Oefening 7.10**\n",
    "\n",
    "Maak een programma voor een vereenvoudigde versie van het spel\n",
    "“Zeeslag”. De computer creëert (in het geheugen) een matrix van 3 rijen hoog en\n",
    "4 kolommen breed. De rijen zijn genummerd 1, 2, en 3, en de kolommen hebben de letters\n",
    "A, B, C, en D. De computer verstopt in drie van de cellen een “oorlogsschip.” Ieder schip\n",
    "is precies één cel groot. De schepen mogen elkaar noch horizontaal, noch verticaal raken.\n",
    "Laat het programma de schepen per toeval plaatsen, dus niet volgens een vastgestelde\n",
    "configuratie.\n",
    "De computer vraagt de speler te “schieten” op cellen in de matrix. De speler doet dat door\n",
    "een kolom letter en rij cijfer in te geven (bijvoorbeeld, \"D3\"). Als de cel waarop de speler\n",
    "schiet niks bevat, zegt de computer “Mis!” Als de cel een schip bevat, zegt de computer\n",
    "“Raak!’ en verwijdert het schip (dus als de speler nog eens zou schieten op dezelfde cel dan\n",
    "is het automatisch een mis). Als de speler erin geslaagd is alle drie de schepen tot zinken te\n",
    "brengen, laat de computer zien hoeveel schoten er nodig waren, en het programma eindigt.\n",
    "\n",
    "Hint: Als je dit een lastige oefening vindt, start dan met een bord waarbij je de schepen al\n",
    "vooraf geplaatst hebt. Als de rest van de code werkt, voeg dan een functie toe waarbij de schepen per toeval geplaatst worden, zonder\n",
    "dat je controleert of ze elkaar raken. Als dat eenmaal werkt, voeg je code toe die ervoor\n",
    "zorgt dat de schepen elkaar niet kunnen raken."
   ]
  },
  {
   "cell_type": "code",
   "execution_count": null,
   "metadata": {},
   "outputs": [],
   "source": []
  }
 ],
 "metadata": {
  "kernelspec": {
   "display_name": "Python 3",
   "language": "python",
   "name": "python3"
  },
  "language_info": {
   "codemirror_mode": {
    "name": "ipython",
    "version": 3
   },
   "file_extension": ".py",
   "mimetype": "text/x-python",
   "name": "python",
   "nbconvert_exporter": "python",
   "pygments_lexer": "ipython3",
   "version": "3.7.0"
  }
 },
 "nbformat": 4,
 "nbformat_minor": 1
}
