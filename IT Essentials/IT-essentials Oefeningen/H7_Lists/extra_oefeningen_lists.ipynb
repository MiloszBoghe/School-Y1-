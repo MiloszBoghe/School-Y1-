{
 "cells": [
  {
   "cell_type": "markdown",
   "metadata": {
    "collapsed": true
   },
   "source": [
    "## Extra oefeningen hoofdstuk 7: Lists"
   ]
  },
  {
   "cell_type": "markdown",
   "metadata": {},
   "source": [
    "**Oefening 7.1**\n",
    "\n",
    "In een secundaire school werkt men volgens het principe van de schoolrekeningen. Men\n",
    "wenst nu een overzicht van de openstaande saldi te krijgen van de studenten van een\n",
    "bepaalde klas. Schrijf hiervoor een programma dat als volgt werkt:\n",
    "\n",
    "+ De klascode, het betaalde voorschot en het aantal studenten van de klas dient op\n",
    "voorhand ingegeven te worden. Het betaalde voorschot is voor alle studenten van\n",
    "eenzelfde klas hetzelfde.\n",
    "\n",
    "+ Daarna worden de onkosten ingegeven die op de schoolrekening geplaatst moeten\n",
    "worden. Iedere student heeft een nummer te beginnen met 1 tot en met het aantal\n",
    "studenten uit die klas. Voer een controle uit op het studentnr.\n",
    "Het einde van de invoer wordt aangegeven door een ingave van studentnr = 0.\n",
    "De onkosten worden willekeurig ingegeven, dus niet in volgorde van studentnr.\n",
    "Elk studentnr kan meerdere malen ingegeven worden. De onkosten worden dan geteld\n",
    "bij de eerder ingegeven kosten van die student.\n",
    "\n",
    "+ Voorbeeld van ingave: **4BIA 50 5 1 25 2 10 1 50 5 20 0**\n",
    "\n",
    "4BIA heeft 5 studenten met een betaald voorschot van 50 euro.\n",
    "Studentnummer 1 heeft 75 euro onkosten en moet dus nog 25 euro betalen,\n",
    "studentnummer 2 heeft 10 euro onkosten en krijgt dus 40 euro terug enz.\n",
    "\n",
    "Gevraagd: Per student dienen volgende gegevens afgedrukt te worden: klascode,\n",
    "studentnr, totaal van de onkosten en het saldo. "
   ]
  },
  {
   "cell_type": "markdown",
   "metadata": {},
   "source": [
    "**Oefening 7.2**\n",
    "\n",
    "Schrijf een programma dat van een positief geheel getal elk cijfer als een Nederlands\n",
    "woord weergeeft. Bv. ingave “123” output “een twee drie”. "
   ]
  },
  {
   "cell_type": "markdown",
   "metadata": {},
   "source": [
    "**Oefening 7.3**\n",
    "\n",
    "Het spoor van een vierkante matrix is de som van de elementen op de hoofddiagonaal. Een 7x7-matrix wordt kolom per kolom ingelezen. Schrijf een programma dat het spoor van deze matrix berekent en afdrukt."
   ]
  },
  {
   "cell_type": "markdown",
   "metadata": {},
   "source": [
    "**Oefening 7.4**\n",
    "\n",
    "Een firma beschikt over volgende gegevens van haar personeelsleden: personeelsnummer, uurloon een aantal gewerkte uren per week. Geef deze gegevens via toetsenbord in. De invoer stopt als voor het personeelsnummer de waarde 0 wordt ingegeven.\n",
    "\n",
    "Maak een lijst met per werknemer: personeelsnummer, weekloon en terug te vorderen overuren.\n",
    "Het weekloon en de terug te vorderen uren worden in functies als volgt berekend:\n",
    "\t\n",
    "+ indien overuren (uren >38)\n",
    "    + eerste 10 overuren aan 150%\n",
    "    + volgende 5 overuren aan 200%\n",
    "    + overige overuren aan 120% en dit zijn uren terug te nemen \n",
    "+ indien een personeelslid minder dan 38 gewerkt heeft, wordt toch 38 uren uitbetaald\n",
    "\n",
    "Op het einde van het programma moet je nog het totaal aantal personeelsleden, totaal aan uit te betalen lonen en het totaal van de terug te vorderen uren afdrukken.\n",
    "\n",
    "De personeelsleden worden op basis van hun overuren in verschillende categorieën ingedeeld:\n",
    "+ minder dan 38 uren gewerkt: \tcategorie 0\n",
    "+ 38 uren gewerkt: \t\t\tcategorie 1\n",
    "+ aantal overuren ≥1 en ≤ 10: \tcategorie 2\n",
    "+ aantal overuren >10 en ≤ 15: \tcategorie 3\n",
    "+ aantal overuren >15: \t\tcategorie 4\n",
    "\n",
    "Geef voor elke categorie het aantal werknemers"
   ]
  },
  {
   "cell_type": "markdown",
   "metadata": {},
   "source": [
    "**Oefening 7.5**\n",
    "\n",
    "Er wordt een enquête georganiseerd om de mening te kennen van het doorsnee publiek\n",
    "over 4 actuele vragen. Hiertoe worden 200 personen ondervraagd. Elke persoon antwoordt\n",
    "op de 4 vragen met volledig oneens, eerder oneens, geen mening, eerder eens, volledig\n",
    "eens.\n",
    "Dit gaf volgend resultaat:\n",
    "\n",
    "![enquete.JPG](images\\enquete.JPG)\n",
    "\n",
    "Deze matrix initialiseer je rechtstreeks in het programma.\n",
    "Bereken per vraag het gewogen gemiddelde. Aan elk antwoord wordt een score toegekend:\n",
    "volledig oneens(score 1), eerder oneens (score 2), geen mening (score 3), eens (score 4),\n",
    "volledig eens (score 5).\n",
    "Het gewogen gemiddelde voor vraag 1 is dan 25×1+36×2+55×3+46×4+38×5\n",
    "200 = 3.18 .\n",
    "Druk per vraag dit gewogen gemiddelde af (2 cijfers na de komma weergeven).\n",
    "Welke vraag heeft het hoogst gewogen gemiddelde? Je mag ervan uit gaan dat er zo maar\n",
    "1 vraag is."
   ]
  },
  {
   "cell_type": "markdown",
   "metadata": {},
   "source": [
    "**Oefening 7.6**\n",
    "\n",
    "Onder de studenten van de studierichting TIN werd een enquête gehouden over de meest\n",
    "geliefde strips.\n",
    "Initialiseer twee geneste lists met de volgende gegevens:\n",
    "\n",
    "![strips.JPG](images\\strips.JPG)\n",
    "\n",
    "Een eerste list bevat de titels en de auteurs van bovenstaande 5 strips. Een tweede list\n",
    "bevat de uitgebrachte stemmen door de studenten van 1tin, 2tin en 3tin. Er is\n",
    "overeenstemming tussen de twee lists d.w.z. de eerste rij van list 1 komt overeen met\n",
    "de eerste rij van list 2.\n",
    "\n",
    "Bepaal volgende gegevens en druk af\n",
    "+ van elke strip de titel, de naam van de auteur en het totaal aantal behaalde\n",
    "stemmen\n",
    "+ maak volgende string: \"de strip met het hoogst aantal stemmen is ??? van auteur\n",
    "???\". De string bestaat volledig uit kleine letters, behalve de titel en de auteur: die\n",
    "verschijnen volledig in hoofdletters. Druk vervolgens de string af."
   ]
  },
  {
   "cell_type": "markdown",
   "metadata": {},
   "source": [
    "**Oefening 7.7**\n",
    "\n",
    "Aan Hogeschool PXL wordt een enquête gehouden naar het vervoersmiddel van de studenten om naar school te komen. Men wil komen tot het volgende overzicht.\n",
    "\n",
    "![vervoersenquete.JPG](images\\vervoersenquete.JPG)\n",
    "\n",
    "Er werden 150 personen ondervraagd. Per ondervraagde wordt het departement en het vervoersmiddel ingegeven (1=alleen in auto, 2=carpooling, 3=openbaar vervoer, 4= fiets, 5= te voet). Simuleer de enquête door zelf 150 keer 2 getallen te genereren (1 voor het departement en 1 voor het vervoersmiddel).\n",
    "\n",
    "Gevraagd:  \n",
    "+ vul bovenstaande tabel in en geef hiervan een afdruk\n",
    "+ maak een lijst van vervoersmiddelen die in totaal minder dan 30 keer genoemd werden\n",
    "+ geef per vervoersmiddel het percentage\n",
    "\n"
   ]
  },
  {
   "cell_type": "markdown",
   "metadata": {},
   "source": [
    "**Oefening 7.8 (moeilijke oefening)** \n",
    "\n",
    "Schrijf een boter-kaas-eieren programma dat twee mensen het spel samen\n",
    "laat spelen. Om de beurt vraagt het programma iedere speler om de rij en de kolom waar ze\n",
    "een teken willen plaatsen. Zorg ervoor dat het programma alleen een rij/kolom combinatie\n",
    "toestaat die binnen het bord valt en leeg is. Als een speler heeft gewonnen, eindigt het spel.\n",
    "Als het bord vol is, eindigt het spel ook, met een gelijkspel. \n",
    "\n",
    "Maak zeker een functie *toon_bord(spelbord)* die het spelbord als parameter\n",
    "krijgt en die het spelbord op het scherm toont. Maak ook een functie *geef_rij_kolom()* die de gebruiker om\n",
    "een rij/kolom combinatie vraagt en die controleert of het een geldige invoer is. Maak\n",
    "ook een functie *winnaar()* die controleert of het bord een winnaar heeft. Houd bij wie aan\n",
    "de beurt is middels een variabele speler in het hoofdprogramma, die je kunt meegeven\n",
    "aan een functie als argument als de functie dit moet weten."
   ]
  }
 ],
 "metadata": {
  "kernelspec": {
   "display_name": "Python 3",
   "language": "python",
   "name": "python3"
  },
  "language_info": {
   "codemirror_mode": {
    "name": "ipython",
    "version": 3
   },
   "file_extension": ".py",
   "mimetype": "text/x-python",
   "name": "python",
   "nbconvert_exporter": "python",
   "pygments_lexer": "ipython3",
   "version": "3.7.0"
  }
 },
 "nbformat": 4,
 "nbformat_minor": 1
}
