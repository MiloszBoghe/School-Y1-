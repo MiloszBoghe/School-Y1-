{
 "cells": [
  {
   "cell_type": "markdown",
   "metadata": {},
   "source": [
    "# Extra Oefeningen Hoofdstuk 3: Condities"
   ]
  },
  {
   "cell_type": "markdown",
   "metadata": {},
   "source": [
    "**Oefening 3.1**\n",
    "\n",
    "Er worden 3 getallen ingelezen `a`, `b` en `c`. Als $a + b$ kleiner is dan 20, moet `c` bij deze som geteld worden. Als `a` en `b` samen groter dan of gelijk aan 20 zijn, dan moet de tekst *te groot* afgedrukt worden."
   ]
  },
  {
   "cell_type": "markdown",
   "metadata": {},
   "source": [
    "**Oefening 3.2**\n",
    "\n",
    "Het jaarlijks lidgeld bij een padel-vereniging bedraagt:\n",
    "+ 25 euro voor volwassenen\n",
    "+ 12.5 euro voor personen minder dan 18 jaar\n",
    "+ 6 euro voor personen minder dan 12 jaar.\n",
    "Via het toetsenbord wordt de leeftijd van een lid ingevoerd. \n",
    "De leeftijd en het te betalen lidgeld moet afgedrukt worden."
   ]
  },
  {
   "cell_type": "markdown",
   "metadata": {},
   "source": [
    "**Oefening 3.3**\n",
    "\n",
    "Schrijf een programma om de prijs te berekenen van het geleverde water.  De prijs wordt berekend in functie van het verbruik.\n",
    "Er is steeds een vast recht van 25 euro te betalen. Voor dit bedrag krijgt de abonnee $30m^3$ geleverd.  Wie meer dan $30m^3$ verbruikt moet dit meerverbruik betalen.  De prijs ervan is afhankelijk van de verbruikte hoeveelheid. \n",
    "+ Als het totale waterverbruik groter is dan 30 maar kleiner dan of gelijk aan $200m^3$ betaalt de abonnee 1 euro per $m^3$ voor het meerverbruik.\n",
    "+ Als het totale waterverbruik groter is dan 200 maar kleiner dan of gelijk aan $5000m^3$ betaalt de abonnee 1.15 euro per $m^3$ voor het meerverbruik.\n",
    "+ Als het totale waterverbruik groter is dan $5000m^3$ betaalt de abonnee 1.175 euro per $m^3$ voor het meerverbruik.\n",
    "\n",
    "**Variant:**\n",
    "\n",
    "De verbruiker betaalt 1 euro per $m^3$ voor het meerverbruik tussen 30 en $200m^3$, 1.15 euro per $m^3$ voor het meerverbruik tussen 200 en $5000m^3$  en 1.175 euro per $m^3$ voor het meerverbruik boven $5000m^3$.\n"
   ]
  },
  {
   "cell_type": "markdown",
   "metadata": {},
   "source": [
    "**Oefening 3.4**\n",
    "\n",
    "Een voetbalploeg uit eerste klasse wenst de prijs van zijn spelers in te schatten via volgend programma.\n",
    "*Invoer:* \n",
    "+ naam speler\n",
    "+ prijs vorig seizoen\n",
    "+ leeftijd \n",
    "+ gemiddeld beoordelingscijfer van de sportjournalisten (cijfer tussen 0 en 10)\n",
    "+ type speler (\"Aanvaller\", \"Middenvelder\", \"Verdediger\", \"Doelman\")\n",
    "+ aantal doelpunten (bij de doelman is dit het aantal doelpunten dat hij niet heeft kunnen verijdelen, bij de anderen is dit het aantal doelpunten dat ze gescoord hebben).  \n",
    "\n",
    "Op basis van deze gegevens wordt de nieuwe prijs berekend.\n",
    "*Berekening nieuwe prijs:* \n",
    "+ Als basisprijs wordt de prijs van vorig seizoen genomen.  \n",
    "+ Als de speler jonger is dan 25 jaar, wordt deze basisprijs met 10% verhoogd.  Als de speler ouder is dan 30 jaar, wordt deze basisprijs met 5% verlaagd.  Bij spelers van 25 jaar t.e.m. 30 jaar oud wordt de basisprijs behouden.\n",
    "+ Voor aanvallers geldt: voor de eerste 5 doelen, wordt de prijs met 10 000 euro per doel verhoogd, vanaf het zesde doel, wordt de prijs met 20 000  euro per doel verhoogd.\n",
    "+ Voor middenvelders, verdedigers en doelmannen geldt: de prijs wordt verhoogd met 10 000 euro * beoordelingscijfer (bv. iemand met beoordeling 8, bekomt een prijsverhoging van 80 000 euro).  Voor doelmannen geldt bovendien: vanaf de 20ste goal die ze binnenlaten, daalt de prijs met 9 000 euro.\n",
    "\n",
    "*Druk af:*\n",
    "+ naam speler\n",
    "+ prijs vorig seizoen\n",
    "+ nieuwe prijs"
   ]
  },
  {
   "cell_type": "code",
   "execution_count": null,
   "metadata": {},
   "outputs": [],
   "source": []
  }
 ],
 "metadata": {
  "kernelspec": {
   "display_name": "Python 3",
   "language": "python",
   "name": "python3"
  },
  "language_info": {
   "codemirror_mode": {
    "name": "ipython",
    "version": 3
   },
   "file_extension": ".py",
   "mimetype": "text/x-python",
   "name": "python",
   "nbconvert_exporter": "python",
   "pygments_lexer": "ipython3",
   "version": "3.7.0"
  }
 },
 "nbformat": 4,
 "nbformat_minor": 1
}
