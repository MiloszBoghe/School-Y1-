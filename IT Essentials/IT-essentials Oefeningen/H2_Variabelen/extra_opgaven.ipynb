{
 "cells": [
  {
   "cell_type": "markdown",
   "metadata": {},
   "source": [
    "# Extra oefeningen hoofdstuk 2: Variabelen"
   ]
  },
  {
   "cell_type": "markdown",
   "metadata": {},
   "source": [
    "**Oefening 2.1**\n",
    "\n",
    "Een telefoonmaatschappij rekent aan haar klanten tweemaandelijks een vast bedrag van 20 euro (aansluiting, huur, onderhoud). Een telefoongesprek binnen België kost 12 eurocent (ongeacht de duur van het gesprek), een telefoongesprek naar het buitenland kost 50 eurocent per begonnen minuut. In deze tarieven is geen BTW inbegrepen.\n",
    "Je geeft via het toetsenbord het aantal Belgische gesprekken op en het aantal minuten dat er naar het buitenland getelefoneerd werd in de afgelopen maand. Het programma berekent hoeveel je moet betalen voor de afgelopen maand. Het BTW-percentage is 21%.\n"
   ]
  },
  {
   "cell_type": "markdown",
   "metadata": {},
   "source": [
    "**Oefening 2.2**\n",
    "\n",
    "De diameter van een fietswiel wordt meestal opgegeven in inches (1 inch=0,0254 m). Bepaal de omwenteling van een wiel in meters uitgedrukt, bij een opgegeven diameter in inches, en druk het bekomen resultaat af.\n",
    "Voorbeeld:\n",
    "+ diameter van een wiel: 16 inches\n",
    "+ afgelegde weg van een omwenteling: $16 \\times 3,14$\n",
    "+ afgelegde weg uitgedrukt in m: $16 \\times 3,14 \\times 0,025$"
   ]
  },
  {
   "cell_type": "markdown",
   "metadata": {},
   "source": [
    "**Oefening 2.3**\n",
    "\n",
    "Hoeveel omwentelingen zal een wiel moeten maken om een opgegeven aantal m af te leggen. De diameter van het fietswiel wordt in inches opgegeven (zie vorige opgave).\n",
    "Volgende gegevens worden ingelezen: diameter fietswiel en de af te leggen afstand."
   ]
  }
 ],
 "metadata": {
  "kernelspec": {
   "display_name": "Python 3",
   "language": "python",
   "name": "python3"
  },
  "language_info": {
   "codemirror_mode": {
    "name": "ipython",
    "version": 3
   },
   "file_extension": ".py",
   "mimetype": "text/x-python",
   "name": "python",
   "nbconvert_exporter": "python",
   "pygments_lexer": "ipython3",
   "version": "3.7.0"
  }
 },
 "nbformat": 4,
 "nbformat_minor": 1
}
