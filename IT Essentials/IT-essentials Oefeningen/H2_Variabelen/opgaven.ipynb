{
 "cells": [
  {
   "cell_type": "markdown",
   "metadata": {},
   "source": [
    "# Oefeningen hoofdstuk 2: Variabelen"
   ]
  },
  {
   "cell_type": "markdown",
   "metadata": {},
   "source": [
    "**Oefening 2.1**\n",
    "Definieer drie variabelen `var1`, `var2` en `var3`. Vraag de gebruiker voor input van 3 gehele getallen voor de\n",
    "3 variabelen. Bereken het gemiddelde en\n",
    "stop het in een variabele `gemiddelde`. Toon het gemiddelde."
   ]
  },
  {
   "cell_type": "markdown",
   "metadata": {},
   "source": [
    "**Oefening 2.2**\n",
    "De toegangsprijs voor een dierentuin bedraagt 11 euro voor volwassenen en 6 euro voor kinderen onder de 12 jaar. Maak een programma dat het aantal volwassenen en kinderen inleest via toetsenbord en dat de totale prijs berekent en afdrukt."
   ]
  },
  {
   "cell_type": "markdown",
   "metadata": {},
   "source": [
    "**Oefening 2.3**\n",
    "Voer je lengte (in m) en gewicht (in kg) in via het toetsenbord.  Bereken je BMI en druk af.  Je BMI wordt als volgt berekend: $gewicht / (lengte \\times lengte)$."
   ]
  },
  {
   "cell_type": "markdown",
   "metadata": {},
   "source": [
    "**Oefening 2.4**\n",
    "U geeft via het toetsenbord het aantal graden Celsius in. De computer berekent het aantal graden Fahrenheit. Dit aantal wordt op het scherm afgedrukt. De formule hiertoe luidt: $F=(9/5)C+32$."
   ]
  },
  {
   "cell_type": "markdown",
   "metadata": {},
   "source": [
    "**Oefening 2.5**\n",
    "U geeft via het toetsenbord het aantal graden Fahrenheit in en de computer berekent het aantal graden Celsius, afgerond op 1 decimaal na de komma. Dit aantal wordt afgedrukt."
   ]
  },
  {
   "cell_type": "markdown",
   "metadata": {},
   "source": [
    "**Oefening 2.6** Schrijf code die de oppervlakte van een cirkel berekent, gebruik makend\n",
    "van variabelen straal en `pi = 3.14159`. Voor het geval je het vergeten bent, de formule is\n",
    "$straal \\times straal \\times \\pi$. \n",
    "Toon de uitkomst als volgt: “De oppervlakte van een cirkel met straal ... is ...”."
   ]
  },
  {
   "cell_type": "markdown",
   "metadata": {},
   "source": [
    "**Oefening 2.7** Schrijf een programma dat de kosten berekent voor het plaatsen van kamerbreed tapijt. De gebruiker van het programma geeft de lengte en breedte van het tapijt in (uitgedrukt in meter), de prijs per m2 en de plaatsingskosten per m2 in. Als resultaat moet de kostprijs van het tapijt, de plaatsingskosten en de totale kosten afgedrukt worden."
   ]
  },
  {
   "cell_type": "markdown",
   "metadata": {},
   "source": [
    "**Oefening 2.8**\n",
    "Wat kost mijn auto? Prijsbewuste personen willen weten hoeveel hun auto echt kost.\n",
    "Achtereenvolgens wordt ingevoerd:\n",
    "+ aantal afgelegde km per jaar (afgelegde_km)\n",
    "+ verbruik in l per 100 km (verbruik)\n",
    "+ prijs van 1 l brandstof (prijs_per_liter)\n",
    "\n",
    "Als uitvoer wordt verwacht:\n",
    "+ de totale kosten per jaar voor het opgegeven aantal km\n",
    "+ de kostprijs per km rijden."
   ]
  },
  {
   "cell_type": "markdown",
   "metadata": {},
   "source": [
    "**Oefening 2.9** Schrijf code die een hoeveelheid centen (opgeslagen in een variabele met\n",
    "de naam bedrag) classificeert als een combinatie van grotere geldstukken. Je code gebruikt 2 euro's (200 centen),\n",
    "euro's (100 centen), 50 centen, 20 centen, 10 centen, 5 centen, 2 centen en centen (1 cent).\n",
    "Het resultaat is dat je het bedrag\n",
    "uitdrukt in het minimale aantal muntjes dat nodig is.\n",
    "\n",
    "Voorbeeld: 359 centen = 1 $\\times$ 2 euro, 1 $\\times$ 1 euro, 1 $\\times$ 50 cent, 0 $\\times$ 20 cent, 0 $\\times$ 10 cent, 1 $\\times$ 5 cent, 2 $\\times$ 2 cent en 0 $\\times$ 1 cent."
   ]
  },
  {
   "cell_type": "markdown",
   "metadata": {},
   "source": [
    "**Oefening 2.10** Kun je een manier bedenken om de inhoud van twee numerieke variabelen\n",
    "om te wisselen zonder daarbij gebruik te maken van een derde hulp-variabele?"
   ]
  },
  {
   "cell_type": "code",
   "execution_count": null,
   "metadata": {},
   "outputs": [],
   "source": []
  },
  {
   "cell_type": "code",
   "execution_count": 1,
   "metadata": {},
   "outputs": [],
   "source": []
  },
  {
   "cell_type": "code",
   "execution_count": 1,
   "metadata": {},
   "outputs": [],
   "source": []
  },
  {
   "cell_type": "code",
   "execution_count": null,
   "metadata": {},
   "outputs": [],
   "source": []
  }
 ],
 "metadata": {
  "kernelspec": {
   "display_name": "Python 3",
   "language": "python",
   "name": "python3"
  },
  "language_info": {
   "codemirror_mode": {
    "name": "ipython",
    "version": 3
   },
   "file_extension": ".py",
   "mimetype": "text/x-python",
   "name": "python",
   "nbconvert_exporter": "python",
   "pygments_lexer": "ipython3",
   "version": "3.7.0"
  }
 },
 "nbformat": 4,
 "nbformat_minor": 1
}
