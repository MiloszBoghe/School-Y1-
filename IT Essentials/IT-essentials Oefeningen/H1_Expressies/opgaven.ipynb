{
 "cells": [
  {
   "cell_type": "markdown",
   "metadata": {},
   "source": [
    "# Oefeningen hoofdstuk 1: Expressies"
   ]
  },
  {
   "cell_type": "markdown",
   "metadata": {
    "collapsed": true
   },
   "source": [
    "**Oefening 1.1**\n",
    "\n",
    "Bekijk de volgende expressies. Voorspel wat het resultaat zal zijn als je ze ingeeft in Python.\n",
    "Denk goed na over de waarde die de uitkomst zal krijgen. Voer daarna de bewerking uit\n",
    "binnen Python.\n",
    "\n",
    "\n",
    "![title](./images/oefening1_1.jpg)"
   ]
  },
  {
   "cell_type": "markdown",
   "metadata": {},
   "source": [
    "**Oefening 1.2**\n",
    "\n",
    "Bekijk de volgende expressies. Voorspel wat het resultaat zal zijn als je ze ingeeft in Python.\n",
    "Denk goed na over de waarde die de uitkomst zal krijgen. Voer daarna de bewerking uit\n",
    "binnen Python.\n",
    "\n",
    "![title](./images/oefening1_2.jpg)"
   ]
  },
  {
   "cell_type": "markdown",
   "metadata": {},
   "source": [
    "**Oefening 1.3**\n",
    "\n",
    "Je kijkt op de klok en je ziet dat het 14.00u is. Je zet een alarm dat 535 uur\n",
    "later af moet gaan. Hoe laat is het als het alarm afgaat? Schrijf een programma dat het\n",
    "antwoord afdrukt."
   ]
  },
  {
   "cell_type": "code",
   "execution_count": null,
   "metadata": {},
   "outputs": [],
   "source": []
  }
 ],
 "metadata": {
  "kernelspec": {
   "display_name": "Python 3",
   "language": "python",
   "name": "python3"
  },
  "language_info": {
   "codemirror_mode": {
    "name": "ipython",
    "version": 3
   },
   "file_extension": ".py",
   "mimetype": "text/x-python",
   "name": "python",
   "nbconvert_exporter": "python",
   "pygments_lexer": "ipython3",
   "version": "3.7.0"
  }
 },
 "nbformat": 4,
 "nbformat_minor": 1
}
