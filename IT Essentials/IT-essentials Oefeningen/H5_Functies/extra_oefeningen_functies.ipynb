{
 "cells": [
  {
   "cell_type": "markdown",
   "metadata": {},
   "source": [
    "# Extra oefeningen Hoofdstuk 5: Functies"
   ]
  },
  {
   "cell_type": "markdown",
   "metadata": {},
   "source": [
    "**Oefening 5.1**\n",
    "\n",
    "De Grerory-Leibnitz reeks benadert de waarde van $\\pi$ door de berekening\n",
    "van $4 \\times(\\frac{1}{1} - \\frac{1}{3} + \\frac{1}{5} - \\frac{1}{7} + \\frac{1}{9}...)$. Schrijf een functie die $\\pi$ benadert via deze reeks.\n",
    "De functie krijgt één parameter, namelijk een integer die aangeeft hoeveel van de termen\n",
    "tussen de haakjes in de reeks berekend moeten worden."
   ]
  },
  {
   "cell_type": "markdown",
   "metadata": {},
   "source": [
    "**Oefening 5.2**\n",
    "\n",
    "Een museum beschikt over volgende gegevens van bezoekers: in_uur (uur van binnenkomen), in_min (minuten van binnenkomen), uit_uur (uur van verlaten van museum), uit_min (minuten van verlaten van het museum). \n",
    "\n",
    "Bv. Iemand komt om 14u35 het museum binnen en gaat om 15u12 buiten dan is in_uur=14, in_min=35 en uit_uur=15 en uit_min=12.\n",
    "Geef deze gegevens in via het toetsenbord. De invoer stopt als voor in_uur de waarde 0 wordt ingegeven.\n",
    "\n",
    "+ Zet het tijdstip van binnenkomen en tijdstip van buiten gaan om in minuten. Maak hierbij gebruik van een functie. Gebruik deze functie om de aanwezigheidsduur van de bezoeker in het museum te berekenen.\n",
    "+ Hoeveel bezoekers waren meer dan 1 uur binnen?\n",
    "+ Wat was de gemiddelde aanwezigheidsduur van de bezoekers? Deze gemiddelde aanwezigheidsduur moet afgedrukt worden in uren en minuten. Hiervoor moet je gebruik maken van een functie met als invoerparameter de gemiddelde aanwezigheidsduur uitgedrukt in minuten."
   ]
  },
  {
   "cell_type": "markdown",
   "metadata": {},
   "source": [
    "**Oefening 5.3**\n",
    "\n",
    "Maak een functie perfectGetal die nagaat of een getal een perfect getal is.\n",
    "Een getal noemen we perfect als en slechts als het gelijk is aan de som van zijn delers (behalve het getal zelf).\n",
    "Bvb. 6 is een perfect getal want 6 = 3 + 2 + 1 (waar 3, 2 en 1 delers zijn van 6). \n",
    "\n",
    "*Invoerargument:* een getal\n",
    "\n",
    "*Uitvoer:* de tekst “perfect” als het een perfect getal is, anders de tekst “niet perfect”.\n",
    "+ Test je functie uit met een geheel getal >=1 en <=100. Maak hierbij gebruik van de ingebouwde functie randint uit de module random.\n",
    "+ Test je functie uit met een getal bestaande uit 4 cijfers waarbij elk cijfer >=1 en <=3. Voor het genereren van dit getal maak je een functie."
   ]
  },
  {
   "cell_type": "markdown",
   "metadata": {},
   "source": [
    "**Oefening 5.4**\n",
    "\n",
    "Bij een ongeval of wegens hoogdringend vervoer telefoneert men onmiddellijk naar de dienst 100.  Dit vervoer kost dan maximaal:\n",
    "+ voor een reanimatiewagen: vaste som van € 25, te verhogen met € 2,25 per km vanaf de 11de km en € 1,75 per km vanaf de 21ste km.\n",
    "+ voor een gewone ziekenwagen: vaste som van € 20, te verhogen met € 1,75 per km vanaf de 11de km en € 1,15 per km vanaf de 21ste km.\n",
    "\n",
    "Als lid van de Landelijke Bond der Mutualiteiten worden volgende bedragen teruggestort:\n",
    "+ Voor een reanimatiewagen: vaste som van € 15, te verhogen met € 1,5 per km vanaf de 11de km.\n",
    "+ Voor een gewone ziekenwagen: vaste som van € 10, te verhogen met € 1 per km vanaf de 11de km.\n",
    "\n",
    "Schrijf een programma dat een overzicht maakt van de vervoerskosten van de dienst 100 voor 1 week. \n",
    "\n",
    "Volgende onderdelen dienen in het programma te zitten:\n",
    "\n",
    "Voor elk vervoerd slachtoffer dienen de volgende gegevens ingevoerd: \n",
    "+ naam van het slachtoffer (einde invoer naam=/)\n",
    "+ reanimatie- of ziekenwagen (R/Z)\n",
    "+ afstand in km\n",
    "+ lid mutualiteit (J/N)\n",
    "\n",
    "Per slachtoffer moet berekend worden: \n",
    "+ totale kostprijs van het vervoer\n",
    "+ korting door de mutualiteit\n",
    "+ netto te betalen bedrag\n",
    "\n",
    "Maak in je oplossing gebruik van functies.\n",
    "\n",
    "Je programma dient volgende uitvoer te voorzien:\n",
    "1.\tper slachtoffer: naam slachtoffer, totale kostprijs en netto kostprijs.\n",
    "2.\thet aantal vervoerde slachtoffers \n",
    "3.\thet percentage dat lid is van de mutualiteit, afgerond tot 2 decimalen (maak voor het afronden gebruik van een ingebouwde functie)"
   ]
  },
  {
   "cell_type": "markdown",
   "metadata": {},
   "source": [
    "**Oefening 5.5** \n",
    "\n",
    "Schrijf een programma voor het berekenen van het kindergeld dat een gezin krijgt. Via het toetsenbord wordt het aantal kinderen ingegeven. Per kind wordt de leeftijd en een code ingegeven. Deze code bevat de waarde “H” als het gaat om een kind met een handicap, anders geef je als code een lege string.\n",
    "De kinderbijslag wordt als volgt berekend:  het basisbedrag voor kinderbijslag is 75 euro voor een eerste kind, voor elk volgend kind wordt dit verhoogd met 70 euro.  Voor een kind met een handicap, is dit basisbedrag vastgelegd op 300 euro.  Ook worden 2 verhogingen van 25 euro toegekend, de eerste na de 6de verjaardag van het kind, de tweede na de 12de verjaardag. Gebruik een functie voor de berekening van de kinderbijslag per kind.\n",
    "De totale kinderbijslag die het gezin zal ontvangen, moet worden afgedrukt.\n"
   ]
  }
 ],
 "metadata": {
  "kernelspec": {
   "display_name": "Python 3",
   "language": "python",
   "name": "python3"
  },
  "language_info": {
   "codemirror_mode": {
    "name": "ipython",
    "version": 3
   },
   "file_extension": ".py",
   "mimetype": "text/x-python",
   "name": "python",
   "nbconvert_exporter": "python",
   "pygments_lexer": "ipython3",
   "version": "3.7.0"
  }
 },
 "nbformat": 4,
 "nbformat_minor": 1
}
