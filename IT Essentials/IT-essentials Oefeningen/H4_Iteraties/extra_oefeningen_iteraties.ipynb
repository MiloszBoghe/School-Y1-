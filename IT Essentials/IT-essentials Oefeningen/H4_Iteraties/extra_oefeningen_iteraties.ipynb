{
 "cells": [
  {
   "cell_type": "markdown",
   "metadata": {},
   "source": [
    "# Extra Oefeningen Hoofdstuk 4: Iteraties"
   ]
  },
  {
   "cell_type": "markdown",
   "metadata": {},
   "source": [
    "**Oefening 4.1**\n",
    "\n",
    "Een vereniging verkoopt drankjetons. Iedere jeton kost 0,70€. Maak een omrekentabel voor de drankjetons als volgt:\n",
    "\n",
    "    1 jetons = 0.7\n",
    "    2 jetons = 1.4\n",
    "    3 jetons = 2.09\n",
    "    4 jetons = 2.8\n",
    "    5 jetons = 3.5\n",
    "    6 jetons = 4.19\n",
    "    ...\n",
    "    19 jetons = 13.3\n",
    "    20 jetons = 14.0\n",
    "    21 jetons = 14.7\n",
    "    22 jetons = 15.39\n",
    "    23 jetons = 16.09\n",
    "    24 jetons = 16.79\n",
    "    25 jetons = 17.5\n",
    "    30 jetons = 21.0\n",
    "    35 jetons = 24.5\n",
    "    40 jetons = 28.0\n",
    "    45 jetons = 31.49\n",
    "    50 jetons = 35.0"
   ]
  },
  {
   "cell_type": "markdown",
   "metadata": {},
   "source": [
    "**Oefening 4.2**\n",
    "\n",
    "Via het toetsenbord wordt de naam van een student en zijn behaald percentage\n",
    "ingegeven. Doe een invoercontrole op het behaald percentage (enkel 0-100 is \n",
    "toegelaten). Telkens een verkeerde invoer gebeurt, dient er op het scherm een \n",
    "foutboodschap te verschijnen. Ofwel \"Fout! het getal moet minstens 0 zijn\" ofwel \"Fout! \n",
    "het getal mag maximum 100 zijn\". \n",
    "Bepaal vervolgens de behaalde graad en druk naam en graad af.\n",
    "\n",
    "    < 60%\tonvoldoende\n",
    "\t60<70%\tvoldoende\n",
    "\t70<80%\tonderscheiding\n",
    "\t80<85%\tgrote onderscheiding\n",
    "\t≥ 85%\tgrootste onderscheiding\n",
    "\n",
    "*Uitbreiding:* Het programma moet herhaald kunnen worden voor meerdere \n",
    "studenten.  Wanneer als naam “xx” of “XX” wordt ingevoerd, eindigt het programma.\n"
   ]
  },
  {
   "cell_type": "markdown",
   "metadata": {},
   "source": [
    "**Oefening 4.3**\n",
    "\n",
    "Een trainingscentrum voor managers heeft het volgende criterium tot slagen. Indien het gemiddelde op de drie examens beneden de 70% is, dan faalt de manager. In alle andere gevallen slaagt de manager.\n",
    "De naam van de manager en de resultaten van de 3 examens (op 100) worden ingevoerd.  De invoer eindigt als voor de naam “xx” of “XX” wordt ingevoerd.\n",
    "Schrijf een programma om het volgende rapport af te drukken. Het gemiddelde wordt afgerond op 1 decimaal.\n",
    "\n",
    "![alt-text](.\\images\\examen_managers.JPG \"Oefening 3\")\n"
   ]
  },
  {
   "cell_type": "markdown",
   "metadata": {},
   "source": [
    "**Oefening 4.4**\n",
    "\n",
    "Van werknemers in een bedrijf wil men de conditie nagaan. Volgende gegevens worden via het toetsenbord ingegeven: het geslacht (1 = man, 2 = vrouw) en de afstand afgelegd in km na 12 minuten lopen. De invoer stopt wanneer er voor geslacht een getal wordt ingegeven dat niet 1 of 2 is. Op basis van de afgelegde km kan men het conditiegetal berekenen: \n",
    "$conditie\\_getal = \\frac{(afstand(in\\ meter) - 504.9)}{44.73}$\n",
    "\n",
    "*Gevraagd:* Geef het percentage van de werknemers die een slechte conditie hebben. We spreken voor vrouwen over een slechte conditie als het conditiegetal kleiner is dan 29, voor mannen als het conditiegetal kleiner dan 36 is."
   ]
  },
  {
   "cell_type": "markdown",
   "metadata": {},
   "source": [
    "**Oefening 4.5**\n",
    "\n",
    "Leonardo van Pisa, ook wel Fibonacci genoemd, bestudeerde omstreeks 1200 de vermenigvuldiging van konijnen. Hij gebruikte daarvoor een getallenrij waarin elke term gevormd wordt door de som van zijn twee directe voorgangers te nemen. De eerste twee termen zijn 1. De rij ziet er dus als volgt uit: 1 1 2 3 5 8 13 … De computer drukt de elementen van de rij af die kleiner zijn dan 1500."
   ]
  },
  {
   "cell_type": "markdown",
   "metadata": {},
   "source": [
    "**Oefening 4.6**\n",
    "\n",
    "Maak een programma om een rechthoek te tekenen. Via het toetsenbord wordt de lengte (het aantal tekens per lijn) en de hoogte (het aantal lijnen) ingegeven.\n",
    "Maak een output als volgt:\n",
    "\n",
    "```\n",
    "*\t*\t*\t*\t*\t*\n",
    "*\t*\t*\t*\t*\t*\n",
    "*\t*\t*\t*\t*\t*\n",
    "*\t*\t*\t*\t*\t*\n",
    "```\n",
    "In dit voorbeeld is de lengte 6 en de hoogte 4. \n",
    "\n",
    "*Extra:*  Wijzig je code zodat de output wordt: \n",
    "\n",
    "```\n",
    "*\t*\t*\t*\t*\t*\n",
    "*                   *\n",
    "*                   *\n",
    "*\t*\t*\t*\t*\t*\n",
    "```\n"
   ]
  }
 ],
 "metadata": {
  "kernelspec": {
   "display_name": "Python 3",
   "language": "python",
   "name": "python3"
  },
  "language_info": {
   "codemirror_mode": {
    "name": "ipython",
    "version": 3
   },
   "file_extension": ".py",
   "mimetype": "text/x-python",
   "name": "python",
   "nbconvert_exporter": "python",
   "pygments_lexer": "ipython3",
   "version": "3.7.0"
  }
 },
 "nbformat": 4,
 "nbformat_minor": 1
}
