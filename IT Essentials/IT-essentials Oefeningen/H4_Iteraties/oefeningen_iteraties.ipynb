{
 "cells": [
  {
   "cell_type": "markdown",
   "metadata": {},
   "source": [
    "# Oefeningen Hoofdstuk 4: Iteraties"
   ]
  },
  {
   "cell_type": "markdown",
   "metadata": {},
   "source": [
    "**Oefening 4.1**\n",
    "\n",
    "Geef het gewicht van een appel (in gram) in via het toetsenbord.\n",
    "Maak een tabel om het gewicht van 1 tot 100 appels af te drukken als volgt:\n",
    "\n",
    "    1 appel(s) = 165 gr.\n",
    "    2 appel(s) = 330 gr.\n",
    "    3 appel(s) = 495 gr.\n",
    "    4 appel(s) = 660 gr.\n",
    "    ...\n",
    "    99 appel(s) = 16335 gr.\n",
    "    100 appel(s) = 16500 gr.\n",
    "\n",
    "Maak deze opgave eerste via een for, vervolgens via een while.\n",
    "Welk is de betere oplossing?"
   ]
  },
  {
   "cell_type": "markdown",
   "metadata": {},
   "source": [
    "**Oefening 4.2**\n",
    "\n",
    "Geef een geheel getal in via het toetsenbord vb 7.\n",
    "Maak een vermenigvuldigingstabel als volgt:\n",
    "\n",
    "    1 x 7 = 7\n",
    "    2 x 7 = 14\n",
    "    3 x 7 = 21\n",
    "    ...\n",
    "    19 x 7 = 133\n",
    "    20 x 7 = 140"
   ]
  },
  {
   "cell_type": "markdown",
   "metadata": {},
   "source": [
    "**Oefening 4.3**\n",
    "\n",
    "Lees een rij gehele getallen in en druk de som af. Deze rij eindigt met 0.\n",
    "Druk ook af hoeveel negatieve getallen er werden ingegeven."
   ]
  },
  {
   "cell_type": "markdown",
   "metadata": {},
   "source": [
    "**Oefening 4.4**\n",
    "\n",
    "Schrijf een programma om het gewicht van een persoon te berekenen op de Maan, Jupiter en Mars. Volgende gegevens worden via het toetsenbord ingevoerd: percentage van het gewicht t.o.v. aarde: Maan 16,5%; Jupiter  253,7 % en Mars 37,8%.\n",
    "\n",
    "    Aarde: 50\n",
    "    Maan: 8.25\n",
    "    Jupiter: 126.85\n",
    "    Mars: 18.9\n",
    "\n",
    "    Aarde: 55\n",
    "    Maan: 9.075000000000001\n",
    "    Jupiter: 139.535\n",
    "    Mars: 20.79\n",
    "\n",
    "    Aarde: 60\n",
    "    Maan: 9.9\n",
    "    Jupiter: 152.22\n",
    "    Mars: 22.68\n",
    "    \n",
    "    ...\n",
    "    \n",
    "    Aarde: 120\n",
    "    Maan: 19.8\n",
    "    Jupiter: 304.44\n",
    "    Mars: 45.36\n"
   ]
  },
  {
   "cell_type": "markdown",
   "metadata": {},
   "source": [
    "**Oefening 4.5**\n",
    "\n",
    "Schrijf een programma dat een getal tussen 1 en 100 opvraagt. Zorg ervoor dat elke foutieve invoer geweigerd wordt. Telkens een verkeerde invoer gebeurt dient er op het scherm een foutboodschap te verschijnen. Ofwel “Fout! Het getal moet groter zijn dan 1” ofwel, “Fout! Het getal moet kleiner zijn dan 100”. Het programma stopt als er een juiste invoer gedaan is. Het getal wordt dan weergegeven op het scherm."
   ]
  },
  {
   "cell_type": "markdown",
   "metadata": {},
   "source": [
    "**Oefening 4.6**\n",
    "\n",
    "Geef via het toetsenbord artikelnummer, hoeveelheid en eenheidsprijs in. De invoer eindigt met artikelnummer = 999. Gevraagd een afdruk van:\n",
    "+ de gegevens per artikel (artikelnummer, hoeveelheid, eenheidsprijs, bedrag)\n",
    "+ het totaal te betalen bedrag van de aankoop."
   ]
  },
  {
   "cell_type": "markdown",
   "metadata": {},
   "source": [
    "**Oefening 4.7**\n",
    "\n",
    "Lees via het toetsenbord de temperatuur gemeten om 12u ’s middags in van 10 dagen. \n",
    "Gevraagd een afdruk van\n",
    "+\tde hoogste temperatuur voor deze 10 dagen \n",
    "+\tde gemiddelde temperatuur voor deze 10 dagen"
   ]
  },
  {
   "cell_type": "markdown",
   "metadata": {},
   "source": [
    "**Oefening 4.8**\n",
    "\n",
    "Er wordt door renners een tijdrit gereden over een afstand van 36 km.\n",
    "Van iedere renner wordt inschrijvingsnummer en zijn tijd in seconden gegeven. Deze gegevens dienen ingegeven te worden. De invoer stopt wanneer er voor het inschrijvingsnummer een negatief getal wordt ingegeven.\n",
    "We veronderstellen dat alle renners er een verschillende tijd over doen. \n",
    "Gevraagd: \n",
    "+ \tWelke renner is het snelst? \n",
    "+ \tHet percentage van de renners dat er langer dan 1 uur over doet?\n",
    "Zorg voor volgende afdruk:\n",
    "+ \tSnelste renner is de renner met inschrijvingsnummer: .........\n",
    "+ \tHet percentage van de renners dat er langer dan 1 uur over doet :………\n",
    "\n",
    "**Extra:** Geef van de snelste renner ook zijn tijd in uren, minuten en seconden. En druk dit ook af."
   ]
  },
  {
   "cell_type": "markdown",
   "metadata": {},
   "source": [
    "**Oefening 4.9**\n",
    "\n",
    "Schrijf een programma dat tafels van vermenigvuldiging afdrukt voor de getallen 2 tot 5(incl.)."
   ]
  },
  {
   "cell_type": "markdown",
   "metadata": {},
   "source": [
    "**Oefening 4.10**\n",
    "\n",
    "Schrijf een programma om volgende schermafdruk te verkrijgen.\n",
    "\n",
    "![alt-text](.\\images\\pyramide.jpg \"Oefening 10\")\n",
    "\n",
    "De grootte van de driehoek wordt als gegeven via het toetsenbord ingegeven.\n",
    "\n",
    "Ter info: de hoogte en de breedte van de driehoek zijn gelijk"
   ]
  },
  {
   "cell_type": "markdown",
   "metadata": {},
   "source": [
    "**Oefening 4.11**\n",
    "\n",
    "Volgende gegevens over personeelsleden van een bedrijf worden ingevoerd:\n",
    "+ personeelsnummer\n",
    "+ geslacht: 0= vrouw; 1= man\n",
    "+ leeftijd\n",
    "+ brutoloon\n",
    "\t\n",
    "De invoer eindigt als voor het personeelsnummer 0 wordt ingevoerd.\n",
    "Zorg voor een invoercontrole voor het geslacht.\n",
    "\n",
    "*Gevraagd:*\n",
    "\n",
    "+ Druk het aantal mannelijke personen die ofwel ouder zijn dan 34 jaar, ofwel een loon hebben van 1800 euro of meer.\n",
    "+ Druk het aantal vrouwelijke personeelsleden die jonger zijn dan 25 jaar.\n"
   ]
  },
  {
   "cell_type": "markdown",
   "metadata": {},
   "source": [
    "**Oefening 4.12**\n",
    "\n",
    "Een onderneming wenst aan haar personeelsleden een premie uit te betalen die in verhouding staat tot het aantal dienstjaren. Bereken de individuele premie en de totale premie. Per personeelslid dient via het toetsenbord het volgende ingegeven te worden: de familienaam (invoer van \"/\" of \"\\*\" betekent het einde van het programma), voornaam en het aantal dienstjaren. Zorg voor een invoercontrole op het aantal dienstjaren, dit moet een getal zijn tussen 0 en 40 jaar.  De premie wordt als volgt berekend: het aantal dienstjaren * 25 euro. Als het aantal dienstjaren minder zijn dan 5, krijgt de persoon 0 euro als premie. Druk per persoon de familienaam, de voornaam, het aantal jaren dienst en de premie af.  Druk aan het einde van het programma de totaal te betalen premie en de hoogste premie af."
   ]
  },
  {
   "cell_type": "code",
   "execution_count": null,
   "metadata": {},
   "outputs": [],
   "source": []
  }
 ],
 "metadata": {
  "kernelspec": {
   "display_name": "Python 3",
   "language": "python",
   "name": "python3"
  },
  "language_info": {
   "codemirror_mode": {
    "name": "ipython",
    "version": 3
   },
   "file_extension": ".py",
   "mimetype": "text/x-python",
   "name": "python",
   "nbconvert_exporter": "python",
   "pygments_lexer": "ipython3",
   "version": "3.7.0"
  }
 },
 "nbformat": 4,
 "nbformat_minor": 1
}
